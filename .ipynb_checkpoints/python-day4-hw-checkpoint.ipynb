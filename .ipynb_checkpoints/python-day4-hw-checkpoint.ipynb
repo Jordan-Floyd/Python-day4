{
 "cells": [
  {
   "cell_type": "code",
   "execution_count": 18,
   "id": "0073b4fc",
   "metadata": {},
   "outputs": [
    {
     "name": "stdout",
     "output_type": "stream",
     "text": [
      "holy moly this is hard\n",
      "HOLY MOLY THIS IS HARD\n"
     ]
    }
   ],
   "source": [
    "# Exercise 1 - Turn the shopping cart program from yesterday into an object-oriented program\n",
    "# The comments in the cell below are there as a guide for thinking about the problem. However,\n",
    "# if you feel a different way is best for you and your own thought process,\n",
    "# please do what feels best for you by all means.\n",
    "\n",
    "\n",
    "\n",
    "\n",
    "\n",
    "# Create a class called cart that retains items and has methods to add, remove, and show\n",
    "\n",
    "class Cart:\n",
    "    \n",
    "\n",
    "\n",
    "\n",
    "\n",
    "\n",
    "\n",
    "\n",
    "\n",
    "\n",
    "\n",
    "\n",
    "\n",
    "\n",
    "\n",
    "\n",
    "\n",
    "\n",
    "\n",
    "\n",
    "\n",
    "\n",
    "\n",
    "\n",
    "\n",
    "\n",
    "\n",
    "\n",
    "\n",
    "# Exercise 2 - Write a Python class which has two methods get_String and print_String.\n",
    "# get_String accept a string from the user and print_String print the string in upper case\n",
    "\n",
    "class Methodstring():\n",
    "    def __init__(self):\n",
    "        self.string = \"\"\n",
    "\n",
    "    def getString(self):\n",
    "        self.string = input()\n",
    "\n",
    "    def printString(self):\n",
    "        print(self.string.upper())\n",
    "\n",
    "string = Methodstring()\n",
    "string.getString()\n",
    "string.printString()\n",
    "\n"
   ]
  },
  {
   "cell_type": "code",
   "execution_count": null,
   "id": "fb8b18e8",
   "metadata": {},
   "outputs": [],
   "source": []
  }
 ],
 "metadata": {
  "kernelspec": {
   "display_name": "Python 3",
   "language": "python",
   "name": "python3"
  },
  "language_info": {
   "codemirror_mode": {
    "name": "ipython",
    "version": 3
   },
   "file_extension": ".py",
   "mimetype": "text/x-python",
   "name": "python",
   "nbconvert_exporter": "python",
   "pygments_lexer": "ipython3",
   "version": "3.8.8"
  }
 },
 "nbformat": 4,
 "nbformat_minor": 5
}
